{
 "cells": [
  {
   "cell_type": "code",
   "execution_count": 73,
   "metadata": {},
   "outputs": [
    {
     "name": "stderr",
     "output_type": "stream",
     "text": [
      "/var/folders/r7/dqkz0y6s43b009ln0vry2yrm0000gn/T/ipykernel_25934/1523315095.py:6: DeprecationWarning: Callback API version 1 is deprecated, update to latest version\n",
      "  client = mqtt.Client()\n"
     ]
    },
    {
     "data": {
      "text/plain": [
       "<MQTTErrorCode.MQTT_ERR_SUCCESS: 0>"
      ]
     },
     "execution_count": 73,
     "metadata": {},
     "output_type": "execute_result"
    }
   ],
   "source": [
    "from birdsong import CanaryView \n",
    "import time\n",
    "import json\n",
    "import paho.mqtt.client as mqtt\n",
    "\n",
    "client = mqtt.Client()\n",
    "client.connect(\"localhost\", 18883, 60)\n",
    "client.loop_start()\n"
   ]
  },
  {
   "cell_type": "code",
   "execution_count": 74,
   "metadata": {},
   "outputs": [
    {
     "name": "stdout",
     "output_type": "stream",
     "text": [
      "940\n",
      "<class 'list'>\n"
     ]
    }
   ],
   "source": [
    "tags = []\n",
    "with CanaryView(host='xxx') as view:\n",
    "    tags = list(view.browseTags(path='Roadshow - Water District', deep=True))\n",
    "\n",
    "print(len(tags))\n",
    "print(type(tags))"
   ]
  },
  {
   "cell_type": "code",
   "execution_count": 76,
   "metadata": {},
   "outputs": [],
   "source": [
    "def get_live_data(view: CanaryView, tags: list) -> list:\n",
    "    raw_data = {}\n",
    "    for tag, value in dict(view.getLiveData(tags=tags)).items():\n",
    "        raw_data[tag] = value[0]._asdict(iso8601=True)\n",
    "    return raw_data\n",
    "\n",
    "def from_canary_path(canary_tag_path: str) -> str:\n",
    "    return (canary_tag_path\n",
    "            .replace('{', '(')\n",
    "            .replace('}', ')')\n",
    "            .replace('.', '/'))\n",
    "\n",
    "def send_some_data(client: mqtt.Client, topic: str, data: dict):\n",
    "    client.publish(topic, json.dumps(data))\n",
    "\n",
    "def process_raw_data(client: mqtt.Client, raw_data: list) -> dict:\n",
    "    for key, value in raw_data.items():\n",
    "        # print(key, value)\n",
    "        key = from_canary_path(key)\n",
    "        send_some_data(client, key, value)"
   ]
  },
  {
   "cell_type": "code",
   "execution_count": 77,
   "metadata": {},
   "outputs": [
    {
     "name": "stderr",
     "output_type": "stream",
     "text": [
      "Exception ignored in: <function UserTokenManagement.__del__ at 0x10e3c2440>\n",
      "Traceback (most recent call last):\n",
      "  File \"/Users/huntermatuse/miniconda3/envs/tensorflow/lib/python3.10/site-packages/birdsong/tokens.py\", line 90, in __del__\n",
      "    self.__exit__()\n",
      "  File \"/Users/huntermatuse/miniconda3/envs/tensorflow/lib/python3.10/site-packages/birdsong/tokens.py\", line 128, in __exit__\n",
      "    self._revokeLiveDataToken()\n",
      "  File \"/Users/huntermatuse/miniconda3/envs/tensorflow/lib/python3.10/site-packages/birdsong/tokens.py\", line 149, in _revokeLiveDataToken\n",
      "    if self._liveDataTokens:\n",
      "AttributeError: 'CanaryView' object has no attribute '_liveDataTokens'\n"
     ]
    },
    {
     "name": "stdout",
     "output_type": "stream",
     "text": [
      "0 940\n",
      "1 149\n",
      "2 28\n",
      "3 113\n",
      "4 48\n",
      "5 81\n",
      "6 122\n",
      "7 50\n",
      "8 36\n",
      "9 142\n",
      "10 37\n",
      "11 131\n",
      "12 23\n",
      "13 79\n",
      "14 143\n",
      "15 35\n",
      "16 18\n",
      "17 136\n",
      "18 27\n",
      "19 36\n",
      "20 144\n",
      "21 17\n",
      "22 75\n",
      "23 220\n",
      "24 54\n",
      "25 40\n",
      "26 119\n",
      "27 34\n",
      "28 136\n",
      "29 37\n",
      "30 26\n",
      "31 627\n",
      "32 103\n",
      "33 65\n",
      "34 140\n",
      "35 27\n",
      "36 46\n",
      "37 122\n",
      "38 34\n",
      "39 135\n",
      "40 17\n",
      "41 78\n",
      "42 147\n",
      "43 28\n",
      "44 31\n",
      "45 139\n",
      "46 31\n",
      "47 31\n",
      "48 152\n",
      "49 26\n"
     ]
    }
   ],
   "source": [
    "i = 0\n",
    "with CanaryView(host='172.16.110.132') as view:\n",
    "    while i < 50:\n",
    "        raw_data = get_live_data(view, tags)\n",
    "        print(i, len(raw_data.keys()))\n",
    "        # print(raw_data)\n",
    "        \n",
    "        process_raw_data(client, raw_data)\n",
    "        time.sleep(1)\n",
    "\n",
    "        i += 1\n"
   ]
  }
 ],
 "metadata": {
  "kernelspec": {
   "display_name": "tensorflow",
   "language": "python",
   "name": "python3"
  },
  "language_info": {
   "codemirror_mode": {
    "name": "ipython",
    "version": 3
   },
   "file_extension": ".py",
   "mimetype": "text/x-python",
   "name": "python",
   "nbconvert_exporter": "python",
   "pygments_lexer": "ipython3",
   "version": "3.10.12"
  }
 },
 "nbformat": 4,
 "nbformat_minor": 2
}
